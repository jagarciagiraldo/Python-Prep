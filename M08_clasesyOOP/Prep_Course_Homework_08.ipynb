{
 "cells": [
  {
   "attachments": {},
   "cell_type": "markdown",
   "metadata": {},
   "source": [
    "## Clases y Programación Orientada a Objetos"
   ]
  },
  {
   "attachments": {},
   "cell_type": "markdown",
   "metadata": {},
   "source": [
    "1) Crear la clase vehículo que contenga los atributos:<br>\n",
    "Color<br>\n",
    "Si es moto, auto, camioneta ó camión<br>\n",
    "Cilindrada del motor"
   ]
  },
  {
   "cell_type": "code",
   "execution_count": 1,
   "metadata": {},
   "outputs": [],
   "source": [
    "class Auto:\n",
    "    def __init__(self, color, tipo, cilndradaje):\n",
    "        self.color = color  \n",
    "        self.tipo = tipo\n",
    "        self.cilndradaje = cilndradaje  \n"
   ]
  },
  {
   "attachments": {},
   "cell_type": "markdown",
   "metadata": {},
   "source": [
    "2) A la clase Vehiculo creada en el punto 1, agregar los siguientes métodos:<br>\n",
    "Acelerar<br>\n",
    "Frenar<br>\n",
    "Doblar<br>"
   ]
  },
  {
   "cell_type": "code",
   "execution_count": null,
   "metadata": {},
   "outputs": [],
   "source": [
    "class Auto:\n",
    "    def __init__(self, color, tipo, cilndradaje):\n",
    "        self.color = color  \n",
    "        self.tipo = tipo\n",
    "        self.cilndradaje = cilndradaje\n",
    "\n",
    "    def acelerar(self):\n",
    "        print(f\"El auto {self.tipo} de color {self.color} está acelerando.\")\n",
    "\n",
    "    def frenar(self):\n",
    "        print(f\"El auto {self.tipo} de color {self.color} está frenando.\")\n",
    "\n",
    "    def doblar(self, direccion):\n",
    "        print(f\"El auto {self.tipo} de color {self.color} está doblando a la {direccion}.\")      "
   ]
  },
  {
   "attachments": {},
   "cell_type": "markdown",
   "metadata": {},
   "source": [
    "3) Instanciar 3 objetos de la clase vehículo y ejecutar sus métodos, probar luego el resultado"
   ]
  },
  {
   "cell_type": "code",
   "execution_count": 2,
   "metadata": {},
   "outputs": [
    {
     "name": "stdout",
     "output_type": "stream",
     "text": [
      "Detalles del auto Renault:\n",
      "Color: Rojo, Tipo: Sedán, Cilindrada: 1600 cc\n",
      "El auto Sedán de color Rojo está acelerando a una velocidad de 80 km/h.\n",
      "El auto Sedán de color Rojo está doblando a la izquierda.\n",
      "El auto Sedán de color Rojo está frenando.\n"
     ]
    }
   ],
   "source": [
    "class Auto:\n",
    "    def __init__(self, color, tipo, cilndradaje):\n",
    "        self.color = color  \n",
    "        self.tipo = tipo\n",
    "        self.cilndradaje = cilndradaje\n",
    "\n",
    "    def acelerar(self, velocddad):\n",
    "        print(f\"El auto {self.tipo} de color {self.color} está acelerando a una velocidad de {velocddad} km/h.\")\n",
    "\n",
    "    def frenar(self):\n",
    "        print(f\"El auto {self.tipo} de color {self.color} está frenando.\")\n",
    "\n",
    "    def doblar(self, direccion):\n",
    "        print(f\"El auto {self.tipo} de color {self.color} está doblando a la {direccion}.\") \n",
    "\n",
    "# Crear una instancia de la clase Auto\n",
    "renault = Auto(\"Rojo\", \"Sedán\", 1600)\n",
    "chevrolet = Auto(\"Azul\", \"SUV\", 2000)\n",
    "mazda = Auto(\"Verde\", \"Camioneta\", 1400)\n",
    "\n",
    "print(\"Detalles del auto Renault:\")\n",
    "print(f\"Color: {renault.color}, Tipo: {renault.tipo}, Cilindrada: {renault.cilndradaje} cc\")\n",
    "renault.acelerar(80)\n",
    "renault.doblar(\"izquierda\")\n",
    "renault.frenar()\n",
    "\n"
   ]
  },
  {
   "attachments": {},
   "cell_type": "markdown",
   "metadata": {},
   "source": [
    "4) Agregar a la clase Vehiculo, un método que muestre su estado, es decir, a que velocidad se encuentra y su dirección. Y otro método que muestre color, tipo y cilindrada"
   ]
  },
  {
   "cell_type": "code",
   "execution_count": null,
   "metadata": {},
   "outputs": [],
   "source": [
    "class Auto:\n",
    "    def __init__(self, color, tipo, cilndradaje):\n",
    "        self.color = color  \n",
    "        self.tipo = tipo\n",
    "        self.cilndradaje = cilndradaje\n",
    "\n",
    "    def acelerar(self, velocddad):\n",
    "        print(f\"El auto {self.tipo} de color {self.color} está acelerando a una velocidad de {velocddad} km/h.\")\n",
    "\n",
    "    def frenar(self):\n",
    "        print(f\"El auto {self.tipo} de color {self.color} está frenando.\")\n",
    "\n",
    "    def doblar(self, direccion):\n",
    "        print(f\"El auto {self.tipo} de color {self.color} está doblando a la {direccion}.\") \n",
    "    \n",
    "    def mostrar_detalles(self):\n",
    "        print(f\"Detalles del auto: Color: {self.color}, Tipo: {self.tipo}, Cilindrada: {self.cilndradaje} cc\")\n",
    "\n",
    "    def mostrar_estado(self, velocidad, direccion):\n",
    "        print(f\"El auto {self.tipo} de color {self.color} está a una velocidad de {velocidad} km/h y doblando a la {direccion}.\")\n"
   ]
  },
  {
   "attachments": {},
   "cell_type": "markdown",
   "metadata": {},
   "source": [
    "5) Crear una clase que permita utilizar las funciones creadas en la práctica del módulo 7<br>\n",
    "Verificar Primo<br>\n",
    "Valor modal<br>\n",
    "Conversión grados<br>\n",
    "Factorial<br>"
   ]
  },
  {
   "cell_type": "code",
   "execution_count": null,
   "metadata": {},
   "outputs": [],
   "source": [
    "class funcionesUtiles:\n",
    "\n",
    "    def __init__(self):\n",
    "        pass\n",
    "\n",
    "    def definiPrimo(self, numero):\n",
    "        numero = abs(int(numero))\n",
    "        if (numero == 0 or numero == 1):\n",
    "            return False\n",
    "        elif (numero == 2):\n",
    "            return True\n",
    "        else:\n",
    "            for i in range (2, numero):\n",
    "                if (numero % i == 0):\n",
    "                    return False\n",
    "            return True\n",
    "\n",
    "    def conversionTemperatura(self, valor, medidaOrigen, medidaDestino):\n",
    "        if medidaOrigen == 'Celsius':\n",
    "            if medidaDestino == 'Fahrenheit':\n",
    "                return (valor * 9/5) + 32\n",
    "            elif medidaDestino == 'Kelvin':\n",
    "                return valor + 273.15\n",
    "        elif medidaOrigen == 'Fahrenheit':\n",
    "            if medidaDestino == 'Celsius':\n",
    "                return (valor - 32) * 5/9\n",
    "            elif medidaDestino == 'Kelvin':\n",
    "                return (valor - 32) * 5/9 + 273.15\n",
    "        elif medidaOrigen == 'Kelvin':\n",
    "            if medidaDestino == 'Celsius':\n",
    "                return valor - 273.15\n",
    "            elif medidaDestino == 'Fahrenheit':\n",
    "                return (valor - 273.15) * 9/5 + 32\n",
    "\n",
    "    def factorial(self, numero):\n",
    "        numero = abs(int(numero))  \n",
    "        if (numero > 1):\n",
    "            numero = numero * self.factorial(numero - 1)\n",
    "        return numero   "
   ]
  },
  {
   "attachments": {},
   "cell_type": "markdown",
   "metadata": {},
   "source": [
    "6) Probar las funciones incorporadas en la clase del punto 5"
   ]
  },
  {
   "cell_type": "code",
   "execution_count": null,
   "metadata": {},
   "outputs": [
    {
     "name": "stdout",
     "output_type": "stream",
     "text": [
      "El factorial de 5 es:  120\n"
     ]
    }
   ],
   "source": [
    "class funcionesUtiles:\n",
    "\n",
    "    def __init__(self):\n",
    "        pass\n",
    "\n",
    "    def definiPrimo(self, numero):\n",
    "        numero = abs(int(numero))\n",
    "        if (numero == 0 or numero == 1):\n",
    "            return False\n",
    "        elif (numero == 2):\n",
    "            return True\n",
    "        else:\n",
    "            for i in range (2, numero):\n",
    "                if (numero % i == 0):\n",
    "                    return False\n",
    "            return True\n",
    "\n",
    "    def conversionTemperatura(self, valor, medidaOrigen, medidaDestino):\n",
    "        if medidaOrigen == 'Celsius':\n",
    "            if medidaDestino == 'Fahrenheit':\n",
    "                return (valor * 9/5) + 32\n",
    "            elif medidaDestino == 'Kelvin':\n",
    "                return valor + 273.15\n",
    "        elif medidaOrigen == 'Fahrenheit':\n",
    "            if medidaDestino == 'Celsius':\n",
    "                return (valor - 32) * 5/9\n",
    "            elif medidaDestino == 'Kelvin':\n",
    "                return (valor - 32) * 5/9 + 273.15\n",
    "        elif medidaOrigen == 'Kelvin':\n",
    "            if medidaDestino == 'Celsius':\n",
    "                return valor - 273.15\n",
    "            elif medidaDestino == 'Fahrenheit':\n",
    "                return (valor - 273.15) * 9/5 + 32\n",
    "\n",
    "    def factorial(self, numero):\n",
    "            numero = abs(int(numero))  \n",
    "            if numero == 0:\n",
    "                return 1\n",
    "            elif numero > 1:\n",
    "                return numero * self.factorial(numero - 1)\n",
    "            else:\n",
    "                return numero\n",
    "    \n",
    "numero = funcionesUtiles()    \n",
    "print(\"El factorial de 5 es: \", numero.factorial(5))"
   ]
  },
  {
   "attachments": {},
   "cell_type": "markdown",
   "metadata": {},
   "source": [
    "7) Es necesario que la clase creada en el punto 5 contenga una lista, sobre la cual se apliquen las funciones incorporadas"
   ]
  },
  {
   "cell_type": "code",
   "execution_count": null,
   "metadata": {},
   "outputs": [],
   "source": [
    "class funcionesUtiles:\n",
    "\n",
    "    listaGenerica = list()\n",
    "\n",
    "    def __init__(self):\n",
    "        pass\n",
    "\n",
    "    def definiPrimo(self, numero):\n",
    "        numero = abs(int(numero))\n",
    "        if (numero == 0 or numero == 1):\n",
    "            return False\n",
    "        elif (numero == 2):\n",
    "            return True\n",
    "        else:\n",
    "            for i in range (2, numero):\n",
    "                if (numero % i == 0):\n",
    "                    return False\n",
    "            return True\n",
    "\n",
    "    def conversionTemperatura(self, valor, medidaOrigen, medidaDestino):\n",
    "        if medidaOrigen == 'Celsius':\n",
    "            if medidaDestino == 'Fahrenheit':\n",
    "                return (valor * 9/5) + 32\n",
    "            elif medidaDestino == 'Kelvin':\n",
    "                return valor + 273.15\n",
    "        elif medidaOrigen == 'Fahrenheit':\n",
    "            if medidaDestino == 'Celsius':\n",
    "                return (valor - 32) * 5/9\n",
    "            elif medidaDestino == 'Kelvin':\n",
    "                return (valor - 32) * 5/9 + 273.15\n",
    "        elif medidaOrigen == 'Kelvin':\n",
    "            if medidaDestino == 'Celsius':\n",
    "                return valor - 273.15\n",
    "            elif medidaDestino == 'Fahrenheit':\n",
    "                return (valor - 273.15) * 9/5 + 32\n",
    "\n",
    "    def factorial(self, numero):\n",
    "            numero = abs(int(numero))  \n",
    "            if numero == 0:\n",
    "                return 1\n",
    "            elif numero > 1:\n",
    "                return numero * self.factorial(numero - 1)\n",
    "            else:\n",
    "                return numero\n",
    "    \n",
    "numero = funcionesUtiles()    \n",
    "print(\"El factorial de 5 es: \", numero.factorial(5))"
   ]
  },
  {
   "attachments": {},
   "cell_type": "markdown",
   "metadata": {},
   "source": [
    "8) Crear un archivo .py aparte y ubicar allí la clase generada en el punto anterior. Luego realizar la importación del módulo y probar alguna de sus funciones"
   ]
  },
  {
   "cell_type": "code",
   "execution_count": null,
   "metadata": {},
   "outputs": [],
   "source": [
    "class funcionesUtiles:\n",
    "\n",
    "    listaGenerica = list()\n",
    "\n",
    "    def __init__(self):\n",
    "        pass\n",
    "\n",
    "    def definiPrimo(self, numero):\n",
    "        numero = abs(int(numero))\n",
    "        if (numero == 0 or numero == 1):\n",
    "            return False\n",
    "        elif (numero == 2):\n",
    "            return True\n",
    "        else:\n",
    "            for i in range (2, numero):\n",
    "                if (numero % i == 0):\n",
    "                    return False\n",
    "            return True\n",
    "\n",
    "    def conversionTemperatura(self, valor, medidaOrigen, medidaDestino):\n",
    "        if medidaOrigen == 'Celsius':\n",
    "            if medidaDestino == 'Fahrenheit':\n",
    "                return (valor * 9/5) + 32\n",
    "            elif medidaDestino == 'Kelvin':\n",
    "                return valor + 273.15\n",
    "        elif medidaOrigen == 'Fahrenheit':\n",
    "            if medidaDestino == 'Celsius':\n",
    "                return (valor - 32) * 5/9\n",
    "            elif medidaDestino == 'Kelvin':\n",
    "                return (valor - 32) * 5/9 + 273.15\n",
    "        elif medidaOrigen == 'Kelvin':\n",
    "            if medidaDestino == 'Celsius':\n",
    "                return valor - 273.15\n",
    "            elif medidaDestino == 'Fahrenheit':\n",
    "                return (valor - 273.15) * 9/5 + 32\n",
    "\n",
    "    def factorial(self, numero):\n",
    "            numero = abs(int(numero))  \n",
    "            if numero == 0:\n",
    "                return 1\n",
    "            elif numero > 1:\n",
    "                return numero * self.factorial(numero - 1)\n",
    "            else:\n",
    "                return numero\n",
    "    \n",
    "numero = funcionesUtiles()    \n",
    "print(\"El factorial de 5 es: \", numero.factorial(5))"
   ]
  }
 ],
 "metadata": {
  "kernelspec": {
   "display_name": "Python 3",
   "language": "python",
   "name": "python3"
  },
  "language_info": {
   "codemirror_mode": {
    "name": "ipython",
    "version": 3
   },
   "file_extension": ".py",
   "mimetype": "text/x-python",
   "name": "python",
   "nbconvert_exporter": "python",
   "pygments_lexer": "ipython3",
   "version": "3.13.5"
  }
 },
 "nbformat": 4,
 "nbformat_minor": 4
}
