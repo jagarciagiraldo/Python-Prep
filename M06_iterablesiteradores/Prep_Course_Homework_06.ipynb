{
 "cells": [
  {
   "attachments": {},
   "cell_type": "markdown",
   "metadata": {},
   "source": [
    "## Iteradores e iterables"
   ]
  },
  {
   "attachments": {},
   "cell_type": "markdown",
   "metadata": {},
   "source": [
    "1) A partir de una lista vacía, utilizar un ciclo while para cargar allí números negativos del -15 al -1"
   ]
  },
  {
   "cell_type": "code",
   "execution_count": 1,
   "metadata": {},
   "outputs": [
    {
     "name": "stdout",
     "output_type": "stream",
     "text": [
      "Lista de números negativos:  [-15, -14, -13, -12, -11, -10, -9, -8, -7, -6, -5, -4, -3, -2, -1]\n"
     ]
    }
   ],
   "source": [
    "listaVaciaNumerosNegativos = list()\n",
    "\n",
    "contador = int(-15)\n",
    "\n",
    "while (contador <= -1):\n",
    "    listaVaciaNumerosNegativos.append(contador)\n",
    "    contador = contador + 1\n",
    "\n",
    "print(\"Lista de números negativos: \", listaVaciaNumerosNegativos)"
   ]
  },
  {
   "attachments": {},
   "cell_type": "markdown",
   "metadata": {},
   "source": [
    "2) ¿Con un ciclo while sería posible recorrer la lista para imprimir sólo los números pares?"
   ]
  },
  {
   "cell_type": "code",
   "execution_count": 2,
   "metadata": {},
   "outputs": [
    {
     "name": "stdout",
     "output_type": "stream",
     "text": [
      "Lista de números negativos:  [-15, -14, -13, -12, -11, -10, -9, -8, -7, -6, -5, -4, -3, -2, -1]\n",
      "Lista de números negativos pares v1:  [-14, -12, -10, -8, -6, -4, -2]\n",
      "Lista de números negativos impares v1:  [-15, -13, -11, -9, -7, -5, -3, -1]\n",
      "Lista de números negativos pares v2:  [-14, -12, -10, -8, -6, -4, -2]\n",
      "Lista de números negativos impares v2:  [-15, -13, -11, -9, -7, -5, -3, -1]\n"
     ]
    }
   ],
   "source": [
    "listaVaciaNumerosNegativos = list()\n",
    "listaVaciaNumerosNegativos = [i for i in range(-15, 0)]\n",
    "print(\"Lista de números negativos: \", listaVaciaNumerosNegativos)\n",
    "ListaNumerosNegativosPar = list()\n",
    "ListaNumerosNegativosPar = [i for i in listaVaciaNumerosNegativos if i % 2 == 0]\n",
    "print(\"Lista de números negativos pares v1: \", ListaNumerosNegativosPar)\n",
    "ListaNumerosNegativosImPar = list()\n",
    "ListaNumerosNegativosImPar = [i for i in listaVaciaNumerosNegativos if i % 2 != 0]\n",
    "print(\"Lista de números negativos impares v1: \", ListaNumerosNegativosImPar)\n",
    "\n",
    "ListaNumerosNegativosParv2 = list()\n",
    "ListaNumerosNegativosImParv2 = list()\n",
    "\n",
    "for contador in listaVaciaNumerosNegativos:\n",
    "    if(contador % 2 == 0):\n",
    "        ListaNumerosNegativosParv2.append(contador)\n",
    "        ##print(\"Numero: \" + str(contador) + \" es par\")\n",
    "    else:\n",
    "        ListaNumerosNegativosImParv2.append(contador)\n",
    "        ##print(\"Numero: \" + str(contador) + \" es impar\")\n",
    "\n",
    "print(\"Lista de números negativos pares v2: \", ListaNumerosNegativosParv2)\n",
    "print(\"Lista de números negativos impares v2: \", ListaNumerosNegativosImParv2)\n"
   ]
  },
  {
   "attachments": {},
   "cell_type": "markdown",
   "metadata": {},
   "source": [
    "3) Resolver el punto anterior sin utilizar un ciclo while"
   ]
  },
  {
   "cell_type": "code",
   "execution_count": 3,
   "metadata": {},
   "outputs": [
    {
     "name": "stdout",
     "output_type": "stream",
     "text": [
      "Lista de números negativos:  [-15, -14, -13, -12, -11, -10, -9, -8, -7, -6, -5, -4, -3, -2, -1]\n",
      "Lista de números negativos pares v1:  [-14, -12, -10, -8, -6, -4, -2]\n",
      "Lista de números negativos impares v1:  [-15, -13, -11, -9, -7, -5, -3, -1]\n"
     ]
    }
   ],
   "source": [
    "listaVaciaNumerosNegativos = list()\n",
    "listaVaciaNumerosNegativos = [i for i in range(-15, 0)]\n",
    "print(\"Lista de números negativos: \", listaVaciaNumerosNegativos)\n",
    "ListaNumerosNegativosPar = list()\n",
    "ListaNumerosNegativosImPar = list()\n",
    "for contador in listaVaciaNumerosNegativos:\n",
    "    (ListaNumerosNegativosPar if contador % 2 == 0 else ListaNumerosNegativosImPar).append(contador)\n",
    "print(\"Lista de números negativos pares v1: \", ListaNumerosNegativosPar)\n",
    "print(\"Lista de números negativos impares v1: \", ListaNumerosNegativosImPar)"
   ]
  },
  {
   "attachments": {},
   "cell_type": "markdown",
   "metadata": {},
   "source": [
    "4) Utilizar el iterable para recorrer sólo los primeros 3 elementos"
   ]
  },
  {
   "cell_type": "code",
   "execution_count": 4,
   "metadata": {},
   "outputs": [
    {
     "name": "stdout",
     "output_type": "stream",
     "text": [
      "Tres primeros elementos  [-15, -14, -13]\n"
     ]
    }
   ],
   "source": [
    "listaVaciaNumerosNegativos = list()\n",
    "listaVaciaNumerosNegativos = [i for i in range(-15, 0)]\n",
    "print(\"Tres primeros elementos \", listaVaciaNumerosNegativos[:3])"
   ]
  },
  {
   "attachments": {},
   "cell_type": "markdown",
   "metadata": {},
   "source": [
    "5) Utilizar la función **enumerate** para obtener dentro del iterable, tambien el índice al que corresponde el elemento"
   ]
  },
  {
   "cell_type": "code",
   "execution_count": 5,
   "metadata": {},
   "outputs": [
    {
     "name": "stdout",
     "output_type": "stream",
     "text": [
      "Indice: -15 Valor: 0\n",
      "Indice: -14 Valor: 1\n",
      "Indice: -13 Valor: 2\n",
      "Indice: -12 Valor: 3\n",
      "Indice: -11 Valor: 4\n",
      "Indice: -10 Valor: 5\n",
      "Indice: -9 Valor: 6\n",
      "Indice: -8 Valor: 7\n",
      "Indice: -7 Valor: 8\n",
      "Indice: -6 Valor: 9\n",
      "Indice: -5 Valor: 10\n",
      "Indice: -4 Valor: 11\n",
      "Indice: -3 Valor: 12\n",
      "Indice: -2 Valor: 13\n",
      "Indice: -1 Valor: 14\n"
     ]
    }
   ],
   "source": [
    "listaVaciaNumerosNegativos = list()\n",
    "listaVaciaNumerosNegativos = [i for i in range(-15, 0)]\n",
    "for contador, indice in enumerate(listaVaciaNumerosNegativos):\n",
    "    print(\"Indice: \" + str(indice) + \" Valor: \" + str(contador))"
   ]
  },
  {
   "attachments": {},
   "cell_type": "markdown",
   "metadata": {},
   "source": [
    "6) Dada la siguiente lista de números enteros entre 1 y 20, crear un ciclo donde se completen los valores faltantes: lista = [1,2,5,7,8,10,13,14,15,17,20]"
   ]
  },
  {
   "cell_type": "code",
   "execution_count": 3,
   "metadata": {},
   "outputs": [
    {
     "name": "stdout",
     "output_type": "stream",
     "text": [
      "Lista de números enteros inicial:  [1, 2, 5, 7, 8, 10, 13, 14, 17, 20]\n",
      "El número 3 no está en la lista\n",
      "El número 4 no está en la lista\n",
      "El número 6 no está en la lista\n",
      "El número 9 no está en la lista\n",
      "El número 11 no está en la lista\n",
      "El número 12 no está en la lista\n",
      "El número 15 no está en la lista\n",
      "El número 16 no está en la lista\n",
      "El número 18 no está en la lista\n",
      "El número 19 no está en la lista\n",
      "Lista de números enteros final:  [1, 2, 3, 4, 5, 6, 7, 8, 9, 10, 11, 12, 13, 14, 15, 16, 17, 18, 19, 20]\n"
     ]
    }
   ],
   "source": [
    "listaNumerosEnteros = list()\n",
    "listaNumerosEnteros = [1,2,5,7,8,10,13,14,17,20]\n",
    "print(\"Lista de números enteros inicial: \", listaNumerosEnteros)\n",
    "contador = 0\n",
    "for contador in range(1,21):\n",
    "    if(contador not in listaNumerosEnteros):\n",
    "        print(\"El número \" + str(contador) + \" no está en la lista\")\n",
    "        listaNumerosEnteros.append(contador)\n",
    "\n",
    "listaNumerosEnteros.sort()\n",
    "print(\"Lista de números enteros final: \", listaNumerosEnteros)\n"
   ]
  },
  {
   "attachments": {},
   "cell_type": "markdown",
   "metadata": {},
   "source": [
    "7) La sucesión de Fibonacci es un listado de números que sigue la fórmula: <br>\n",
    "n<sub>0</sub> = 0<br>\n",
    "n<sub>1</sub> = 1<br>\n",
    "n<sub>i</sub> = n<sub>i-1</sub> + n<sub>i-2</sub><br>\n",
    "Crear una lista con los primeros treinta números de la sucesión.<br>"
   ]
  },
  {
   "cell_type": "code",
   "execution_count": 5,
   "metadata": {},
   "outputs": [
    {
     "name": "stdout",
     "output_type": "stream",
     "text": [
      "Lista de sucesión de Fibonacci:  [0, 1, 1, 2, 3, 5, 8, 13, 21, 34, 55, 89, 144, 233, 377, 610, 987, 1597, 2584, 4181, 6765, 10946, 17711, 28657, 46368, 75025, 121393, 196418, 317811, 514229]\n"
     ]
    }
   ],
   "source": [
    "listaSucesionFabionacci = list()\n",
    "listaSucesionFabionacci = [0, 1]\n",
    "for i in range(2, 30):\n",
    "    siguiente = listaSucesionFabionacci[i - 1] + listaSucesionFabionacci[i - 2]\n",
    "    listaSucesionFabionacci.append(siguiente)\n",
    "\n",
    "print(\"Lista de sucesión de Fibonacci: \", listaSucesionFabionacci)"
   ]
  },
  {
   "attachments": {},
   "cell_type": "markdown",
   "metadata": {},
   "source": [
    "8) Realizar la suma de todos elementos de la lista del punto anterior"
   ]
  },
  {
   "cell_type": "code",
   "execution_count": 5,
   "metadata": {},
   "outputs": [
    {
     "name": "stdout",
     "output_type": "stream",
     "text": [
      "Lista de sucesión de Fibonacci:  [0, 1, 1, 2, 3, 5, 8, 13, 21, 34, 55, 89, 144, 233, 377, 610, 987, 1597, 2584, 4181, 6765, 10946, 17711, 28657, 46368, 75025, 121393, 196418, 317811, 514229]\n",
      "Suma de la lista de sucesión de Fibonacci:  1346268\n"
     ]
    }
   ],
   "source": [
    "listaSucesionFabionacci = list()\n",
    "listaSucesionFabionacci = [0, 1]\n",
    "for i in range(2, 30):\n",
    "    siguiente = listaSucesionFabionacci[i - 1] + listaSucesionFabionacci[i - 2]\n",
    "    ## print(listaSucesionFabionacci[i - 1])\n",
    "    ## print(listaSucesionFabionacci[i - 2])\n",
    "    ## print(str(listaSucesionFabionacci[i - 1]))\n",
    "    ## print(str(listaSucesionFabionacci[i - 2]))\n",
    "    ## print(\"******\")\n",
    "    listaSucesionFabionacci.append(siguiente)\n",
    "\n",
    "print(\"Lista de sucesión de Fibonacci: \", listaSucesionFabionacci)\n",
    "\n",
    "sumaListaSucesionFabionacci = sum(listaSucesionFabionacci)\n",
    "print(\"Suma de la lista de sucesión de Fibonacci: \", sumaListaSucesionFabionacci)"
   ]
  },
  {
   "attachments": {},
   "cell_type": "markdown",
   "metadata": {},
   "source": [
    "9) La proporción aurea se expresa con una proporción matemática que nace el número irracional Phi= 1,618… que los griegos llamaron número áureo. El cuál se puede aproximar con la sucesión de Fibonacci. Con la lista del ejercicio anterior, imprimir el cociente de los últimos 5 pares de dos números contiguos:<br>\n",
    "Donde i es la cantidad total de elementos<br>\n",
    "n<sub>i-1</sub> / n<sub>i</sub><br>\n",
    "n<sub>i-2</sub> / n<sub>i-1</sub><br>\n",
    "n<sub>i-3</sub> / n<sub>i-2</sub><br>\n",
    "n<sub>i-4</sub> / n<sub>i-3</sub><br>\n",
    "n<sub>i-5</sub> / n<sub>i-4</sub><br>\n",
    " "
   ]
  },
  {
   "cell_type": "code",
   "execution_count": 7,
   "metadata": {},
   "outputs": [
    {
     "name": "stdout",
     "output_type": "stream",
     "text": [
      "Lista de sucesión de Fibonacci:  [0, 1, 1, 2, 3, 5, 8, 13, 21, 34]\n",
      "Número áureo:  1.618033988749895\n",
      "Índice:  0\n",
      "Número áureo calculado:  0.0\n",
      "Diferencia con el número áureo:  1.618033988749895\n",
      "Porcentaje de diferencia:  100.0\n",
      "Error de división por cero en el índice:  1\n",
      "Error de división por cero en el índice:  1\n",
      "Índice:  2\n",
      "Número áureo calculado:  1.0\n",
      "Diferencia con el número áureo:  0.6180339887498949\n",
      "Porcentaje de diferencia:  38.19660112501052\n",
      "Índice:  3\n",
      "Número áureo calculado:  2.0\n",
      "Diferencia con el número áureo:  0.3819660112501051\n",
      "Porcentaje de diferencia:  23.606797749978966\n",
      "Índice:  5\n",
      "Número áureo calculado:  1.6666666666666667\n",
      "Diferencia con el número áureo:  0.04863267791677184\n",
      "Porcentaje de diferencia:  3.005664791649142\n",
      "Índice:  8\n",
      "Número áureo calculado:  1.6153846153846154\n",
      "Diferencia con el número áureo:  0.0026493733652794837\n",
      "Porcentaje de diferencia:  0.16374027886314116\n",
      "Error inesperado:  list index out of range\n",
      "Error inesperado:  list index out of range\n",
      "Error inesperado:  list index out of range\n"
     ]
    }
   ],
   "source": [
    "import math as math\n",
    "\n",
    "listaSucesionFabionacci = list()\n",
    "listaSucesionFabionacci = [0, 1]\n",
    "for i in range(2, 10):\n",
    "    siguiente = listaSucesionFabionacci[i - 1] + listaSucesionFabionacci[i - 2]\n",
    "    listaSucesionFabionacci.append(siguiente)\n",
    "\n",
    "print(\"Lista de sucesión de Fibonacci: \", listaSucesionFabionacci)\n",
    "\n",
    "numeroAureo = (1 + math.sqrt(5)) / 2\n",
    "print(\"Número áureo: \", numeroAureo)\n",
    "\n",
    "for i in listaSucesionFabionacci:\n",
    "    try:\n",
    "        numeroAureoCalculado = listaSucesionFabionacci[i] / listaSucesionFabionacci[i - 1]\n",
    "        print(\"Índice: \", i)\n",
    "        print(\"Número áureo calculado: \", numeroAureoCalculado)\n",
    "        print(\"Diferencia con el número áureo: \", abs(numeroAureo - numeroAureoCalculado))\n",
    "        print(\"Porcentaje de diferencia: \", (abs(numeroAureo - numeroAureoCalculado) / numeroAureo) * 100)\n",
    "    except ZeroDivisionError:\n",
    "        print(\"Error de división por cero en el índice: \", i)\n",
    "        continue\n",
    "    except Exception as e:\n",
    "        print(\"Error inesperado: \", e)\n",
    "        continue\n",
    "\n",
    "    "
   ]
  },
  {
   "attachments": {},
   "cell_type": "markdown",
   "metadata": {},
   "source": [
    "10) A partir de la variable cadena ya dada, mostrar en qué posiciones aparece la letra \"n\"<br>\n",
    "cadena = 'Hola Mundo. Esto es una practica del lenguaje de programación Python'"
   ]
  },
  {
   "cell_type": "code",
   "execution_count": null,
   "metadata": {},
   "outputs": [
    {
     "name": "stdout",
     "output_type": "stream",
     "text": [
      "Variable cadena:  Hola Mundo. Esto es una practica del lenguaje de programación Python\n",
      "Letra n en posición:  7\n",
      "Letra n en posición:  21\n",
      "Letra n en posición:  39\n",
      "Letra n en posición:  60\n",
      "Letra n en posición:  67\n"
     ]
    }
   ],
   "source": [
    "variableCadena = str()\n",
    "variableCadena = 'Hola Mundo. Esto es una practica del lenguaje de programación Python'\n",
    "print(\"Variable cadena: \", variableCadena)\n",
    "\n",
    "for indice, caracter in enumerate(variableCadena):\n",
    "    if caracter == 'n':\n",
    "        print('Letra n en posición: ', indice)\n"
   ]
  },
  {
   "attachments": {},
   "cell_type": "markdown",
   "metadata": {},
   "source": [
    "11) Crear un diccionario e imprimir sus claves utilizando un iterador"
   ]
  },
  {
   "cell_type": "code",
   "execution_count": 14,
   "metadata": {},
   "outputs": [
    {
     "name": "stdout",
     "output_type": "stream",
     "text": [
      "Datos del usuario:\n",
      "Nombre: John\n",
      "Apellido: Doe\n",
      "Telefono: 1234567890\n",
      "Correo: ejemplo@ejemplo.com\n",
      "Ciudad: Medellín\n"
     ]
    }
   ],
   "source": [
    "datosUsuario = dict()\n",
    "datosUsuario = {'Nombre' : '', 'Apellido': '', 'Telefono': '', 'Correo': '', 'Ciudad': ''}\n",
    "datosUsuario['Nombre'] = str(\"John\")\n",
    "datosUsuario['Apellido'] = str(\"Doe\")\n",
    "datosUsuario['Telefono'] = str(\"1234567890\")\n",
    "datosUsuario['Correo'] = str(\"ejemplo@ejemplo.com\")\n",
    "datosUsuario['Ciudad'] = str(\"Medellín\")\n",
    "\n",
    "print(\"Datos del usuario:\")\n",
    "for clave, valor in datosUsuario.items():   \n",
    "    print(f\"{clave}: {valor}\")"
   ]
  },
  {
   "attachments": {},
   "cell_type": "markdown",
   "metadata": {},
   "source": [
    "12) Convertir en una lista la variable \"cadena\" del punto 10 y luego recorrerla con un iterador "
   ]
  },
  {
   "cell_type": "code",
   "execution_count": 15,
   "metadata": {},
   "outputs": [
    {
     "name": "stdout",
     "output_type": "stream",
     "text": [
      "Variable cadena:  Hola Mundo. Esto es una practica del lenguaje de programación Python\n",
      "Variable cadena como lista:  ['H', 'o', 'l', 'a', ' ', 'M', 'u', 'n', 'd', 'o', '.', ' ', 'E', 's', 't', 'o', ' ', 'e', 's', ' ', 'u', 'n', 'a', ' ', 'p', 'r', 'a', 'c', 't', 'i', 'c', 'a', ' ', 'd', 'e', 'l', ' ', 'l', 'e', 'n', 'g', 'u', 'a', 'j', 'e', ' ', 'd', 'e', ' ', 'p', 'r', 'o', 'g', 'r', 'a', 'm', 'a', 'c', 'i', 'ó', 'n', ' ', 'P', 'y', 't', 'h', 'o', 'n']\n"
     ]
    }
   ],
   "source": [
    "variableCadena = str()\n",
    "variableCadena = 'Hola Mundo. Esto es una practica del lenguaje de programación Python'\n",
    "print(\"Variable cadena: \", variableCadena)\n",
    "\n",
    "variableCadenaList  = list()\n",
    "variableCadenaList = list(variableCadena)\n",
    "print(\"Variable cadena como lista: \", variableCadenaList)\n"
   ]
  },
  {
   "attachments": {},
   "cell_type": "markdown",
   "metadata": {},
   "source": [
    "13) Crear dos listas y unirlas en una tupla utilizando la función zip"
   ]
  },
  {
   "cell_type": "code",
   "execution_count": 18,
   "metadata": {},
   "outputs": [
    {
     "name": "stdout",
     "output_type": "stream",
     "text": [
      "Lista 1:  [1, 2, 3, 4, 5]\n",
      "Lista 2:  [6, 7, 8, 9, 10]\n",
      "Tupla general:  ((1, 6), (2, 7), (3, 8), (4, 9), (5, 10))\n"
     ]
    }
   ],
   "source": [
    "Lista1List = list()\n",
    "Lista2List = list()\n",
    "\n",
    "Lista1List = [1, 2, 3, 4, 5]    \n",
    "Lista2List = [6, 7, 8, 9, 10]\n",
    "\n",
    "print(\"Lista 1: \", Lista1List)\n",
    "print(\"Lista 2: \", Lista2List)\n",
    "\n",
    "UnionListas1y2 = zip(Lista1List, Lista2List)\n",
    "\n",
    "TuplaTotal = tuple(UnionListas1y2)\n",
    "print(\"Tupla general: \", TuplaTotal)"
   ]
  },
  {
   "attachments": {},
   "cell_type": "markdown",
   "metadata": {},
   "source": [
    "14) A partir de la siguiente lista de números, crear una nueva sólo si el número es divisible por 7<br>\n",
    "lis = [18,21,29,32,35,42,56,60,63,71,84,90,91,100]"
   ]
  },
  {
   "cell_type": "code",
   "execution_count": 20,
   "metadata": {},
   "outputs": [
    {
     "name": "stdout",
     "output_type": "stream",
     "text": [
      "Lista de números:  [18, 21, 29, 32, 35, 42, 56, 60, 63, 71, 84, 90, 91, 100]\n",
      "Lista de números divisibles por 7:  [21, 35, 42, 56, 63, 84, 91]\n"
     ]
    }
   ],
   "source": [
    "ListaLis = list()\n",
    "ListaLis = [18,21,29,32,35,42,56,60,63,71,84,90,91,100]\n",
    "print(\"Lista de números: \", ListaLis)\n",
    "ListDivisiblePor7 = list()\n",
    "ListDivisiblePor7 = [i for i in ListaLis if i % 7 == 0]\n",
    "print(\"Lista de números divisibles por 7: \", ListDivisiblePor7)"
   ]
  },
  {
   "attachments": {},
   "cell_type": "markdown",
   "metadata": {},
   "source": [
    "15) A partir de la lista de a continuación, contar la cantidad total de elementos que contiene, teniendo en cuenta que un elemento de la lista podría ser otra lista:<br>\n",
    "lis = [[1,2,3,4],'rojo','verde',[True,False,False],['uno','dos','tres']]"
   ]
  },
  {
   "cell_type": "code",
   "execution_count": 23,
   "metadata": {},
   "outputs": [
    {
     "name": "stdout",
     "output_type": "stream",
     "text": [
      "Lista de elementos:  [[1, 2, 3, 4], 'rojo', 'verde', [True, False, False], ['uno', 'dos', 'tres']]\n",
      "Cantidad de elementos en la lista:  5\n",
      "Cantidad total de elementos (incluyendo sublistas): 12\n"
     ]
    }
   ],
   "source": [
    "ListaLis = list()\n",
    "ListaLis = [[1,2,3,4],'rojo','verde',[True,False,False],['uno','dos','tres']]\n",
    "print(\"Lista de elementos: \", ListaLis)\n",
    "print(\"Cantidad de elementos en la lista: \", len(ListaLis))\n",
    "\n",
    "conteo_total = 0\n",
    "for elemento in ListaLis:\n",
    "    if isinstance(elemento, list):\n",
    "        conteo_total += len(elemento)\n",
    "    else:\n",
    "        conteo_total += 1\n",
    "\n",
    "print(\"Cantidad total de elementos (incluyendo sublistas):\", conteo_total)\n"
   ]
  },
  {
   "attachments": {},
   "cell_type": "markdown",
   "metadata": {},
   "source": [
    "16) Tomar la lista del punto anterior y convertir cada elemento en una lista si no lo es"
   ]
  },
  {
   "cell_type": "code",
   "execution_count": null,
   "metadata": {},
   "outputs": [],
   "source": [
    "ListaLis = list()\n",
    "ListaLis = [[1,2,3,4],'rojo','verde',[True,False,False],['uno','dos','tres']]\n",
    "print(\"Lista de elementos: \", ListaLis)\n",
    "print(\"Cantidad de elementos en la lista: \", len(ListaLis))\n",
    "\n",
    "conteo_total = 0\n",
    "for elemento in ListaLis:\n",
    "    if isinstance(elemento, list):\n",
    "        conteo_total += len(elemento)\n",
    "    else:\n",
    "        conteo_total += 1\n",
    "\n",
    "print(\"Cantidad total de elementos (incluyendo sublistas):\", conteo_total)\n"
   ]
  }
 ],
 "metadata": {
  "kernelspec": {
   "display_name": "Python 3",
   "language": "python",
   "name": "python3"
  },
  "language_info": {
   "codemirror_mode": {
    "name": "ipython",
    "version": 3
   },
   "file_extension": ".py",
   "mimetype": "text/x-python",
   "name": "python",
   "nbconvert_exporter": "python",
   "pygments_lexer": "ipython3",
   "version": "3.13.5"
  }
 },
 "nbformat": 4,
 "nbformat_minor": 4
}
