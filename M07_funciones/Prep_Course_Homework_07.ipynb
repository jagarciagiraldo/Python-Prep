{
 "cells": [
  {
   "attachments": {},
   "cell_type": "markdown",
   "metadata": {},
   "source": [
    "## Funciones"
   ]
  },
  {
   "attachments": {},
   "cell_type": "markdown",
   "metadata": {},
   "source": [
    "1) Crear una función que reciba un número como parámetro y devuelva True si es primo y False si no lo es"
   ]
  },
  {
   "cell_type": "code",
   "execution_count": 15,
   "metadata": {},
   "outputs": [
    {
     "name": "stdout",
     "output_type": "stream",
     "text": [
      "El número 33 es primo:  False\n",
      "El número 10 es primo:  False\n"
     ]
    }
   ],
   "source": [
    "def definiPrimo(numero):\n",
    "    numero = abs(int(numero))\n",
    "    if(numero < 0):\n",
    "        numero = numero * -1\n",
    "    if (numero == 0 or numero == 1):\n",
    "        return False\n",
    "    elif (numero == 2):\n",
    "        return True\n",
    "    else:\n",
    "        for i in range (2, numero):\n",
    "            if (numero % i == 0):\n",
    "                return False\n",
    "        return True\n",
    "        \n",
    "print(\"El número 33 es primo: \", definiPrimo(33))\n",
    "print(\"El número 10 es primo: \", definiPrimo(10))"
   ]
  },
  {
   "attachments": {},
   "cell_type": "markdown",
   "metadata": {},
   "source": [
    "2) Utilizando la función del punto 1, realizar otra función que reciba de parámetro una lista de números y devuelva sólo aquellos que son primos en otra lista"
   ]
  },
  {
   "cell_type": "code",
   "execution_count": 17,
   "metadata": {},
   "outputs": [
    {
     "name": "stdout",
     "output_type": "stream",
     "text": [
      "Lista de números primos:  [2, 3, 5, 7, 11, 13]\n"
     ]
    }
   ],
   "source": [
    "def definiPrimo(numero):\n",
    "    numero = abs(int(numero))\n",
    "    if(numero < 0):\n",
    "        numero = numero * -1\n",
    "    if (numero == 0 or numero == 1):\n",
    "        return False\n",
    "    elif (numero == 2):\n",
    "        return True\n",
    "    else:\n",
    "        for i in range (2, numero):\n",
    "            if (numero % i == 0):\n",
    "                return False\n",
    "        return True\n",
    "        \n",
    "def recibeListaNumeros(listaNumeros):\n",
    "    listaPrimos = list()\n",
    "    for numero in listaNumeros:\n",
    "        if definiPrimo(numero) == True:\n",
    "            listaPrimos.append(numero)\n",
    "    return listaPrimos \n",
    "\n",
    "listaNumeros = [1, 2, 3, 4, 5, 6, 7, 8, 9, 10, 11, 12, 13, 14, 15]\n",
    "print(\"Lista de números primos: \", recibeListaNumeros(listaNumeros)) "
   ]
  },
  {
   "attachments": {},
   "cell_type": "markdown",
   "metadata": {},
   "source": [
    "3) Crear una función que al recibir una lista de números, devuelva el que más se repite y cuántas veces lo hace. Si hay más de un \"más repetido\", que devuelva cualquiera"
   ]
  },
  {
   "cell_type": "code",
   "execution_count": 34,
   "metadata": {},
   "outputs": [
    {
     "name": "stdout",
     "output_type": "stream",
     "text": [
      "Lista de números:  [18, 21, 29, 32, 35, 42, 42, 56, 60, 63, 71, 84, 90, 91, 100]\n",
      "Número:  42  - Repeticiones:  2\n",
      "Keysdict_keys([18, 21, 29, 32, 35, 42, 56, 60, 63, 71, 84, 90, 91, 100])\n",
      "Valuesdict_values([1, 1, 1, 1, 1, 2, 1, 1, 1, 1, 1, 1, 1, 1])\n",
      "Número repetido:  {18: 1, 21: 1, 29: 1, 32: 1, 35: 1, 42: 2, 56: 1, 60: 1, 63: 1, 71: 1, 84: 1, 90: 1, 91: 1, 100: 1}\n"
     ]
    }
   ],
   "source": [
    "def repetirNumeros(listaNumeros):\n",
    "    NumeroRepetido = dict()\n",
    "    for numero in listaNumeros:\n",
    "        if numero in NumeroRepetido:\n",
    "            NumeroRepetido[numero] += 1\n",
    "            print(\"Número: \", numero, \" - Repeticiones: \", NumeroRepetido[numero])  \n",
    "        else:\n",
    "            NumeroRepetido[numero] = 1\n",
    "\n",
    "    print('Keys' + str(NumeroRepetido.keys()))\n",
    "    print('Values' + str(NumeroRepetido.values()))\n",
    "    return NumeroRepetido\n",
    "\n",
    "ListaNumeros  = list()\n",
    "ListaNumeros = [18,21,29,32,35,42,42,56,60,63,71,84,90,91,100]\n",
    "print(\"Lista de números: \", ListaNumeros) \n",
    "\n",
    "print(\"Número repetido: \", repetirNumeros(ListaNumeros))"
   ]
  },
  {
   "attachments": {},
   "cell_type": "markdown",
   "metadata": {},
   "source": [
    "4) Crear una función que convierta entre grados Celsius, Farenheit y Kelvin<br>\n",
    "Fórmula 1\t: (°C × 9/5) + 32 = °F<br>\n",
    "Fórmula 2\t: °C + 273.15 = °K<br>\n",
    "Debe recibir 3 parámetros: el valor, la medida de orígen y la medida de destino\n"
   ]
  },
  {
   "cell_type": "code",
   "execution_count": 36,
   "metadata": {},
   "outputs": [
    {
     "name": "stdout",
     "output_type": "stream",
     "text": [
      "Conversión de 25 Celsius a Fahrenheit:  77.0\n"
     ]
    }
   ],
   "source": [
    "def conversionTemperatura(valor, medidaOrigen, medidaDestino):\n",
    "    if medidaOrigen == 'Celsius':\n",
    "        if medidaDestino == 'Fahrenheit':\n",
    "            return (valor * 9/5) + 32\n",
    "        elif medidaDestino == 'Kelvin':\n",
    "            return valor + 273.15\n",
    "    elif medidaOrigen == 'Fahrenheit':\n",
    "        if medidaDestino == 'Celsius':\n",
    "            return (valor - 32) * 5/9\n",
    "        elif medidaDestino == 'Kelvin':\n",
    "            return (valor - 32) * 5/9 + 273.15\n",
    "    elif medidaOrigen == 'Kelvin':\n",
    "        if medidaDestino == 'Celsius':\n",
    "            return valor - 273.15\n",
    "        elif medidaDestino == 'Fahrenheit':\n",
    "            return (valor - 273.15) * 9/5 + 32\n",
    "        \n",
    "print(\"Conversión de 25 Celsius a Fahrenheit: \", conversionTemperatura(25, 'Celsius', 'Fahrenheit'))"
   ]
  },
  {
   "attachments": {},
   "cell_type": "markdown",
   "metadata": {},
   "source": [
    "5) Iterando una lista con los tres valores posibles de temperatura que recibe la función del punto 5, hacer un print para cada combinación de los mismos:"
   ]
  },
  {
   "cell_type": "code",
   "execution_count": 38,
   "metadata": {},
   "outputs": [
    {
     "name": "stdout",
     "output_type": "stream",
     "text": [
      "Conversión de 25 Celsius a Fahrenheit:  77.0\n",
      "Conversión de 100 Fahrenheit a Kelvin:  310.92777777777775\n",
      "COnversión de 0 Kelvin a Celsius:  -273.15\n"
     ]
    }
   ],
   "source": [
    "def conversionTemperatura(valor, medidaOrigen, medidaDestino):\n",
    "    if medidaOrigen == 'Celsius':\n",
    "        if medidaDestino == 'Fahrenheit':\n",
    "            return (valor * 9/5) + 32\n",
    "        elif medidaDestino == 'Kelvin':\n",
    "            return valor + 273.15\n",
    "    elif medidaOrigen == 'Fahrenheit':\n",
    "        if medidaDestino == 'Celsius':\n",
    "            return (valor - 32) * 5/9\n",
    "        elif medidaDestino == 'Kelvin':\n",
    "            return (valor - 32) * 5/9 + 273.15\n",
    "    elif medidaOrigen == 'Kelvin':\n",
    "        if medidaDestino == 'Celsius':\n",
    "            return valor - 273.15\n",
    "        elif medidaDestino == 'Fahrenheit':\n",
    "            return (valor - 273.15) * 9/5 + 32\n",
    "        \n",
    "print(\"Conversión de 25 Celsius a Fahrenheit: \", conversionTemperatura(25, 'Celsius', 'Fahrenheit'))\n",
    "print(\"Conversión de 100 Fahrenheit a Kelvin: \", conversionTemperatura(100, 'Fahrenheit', 'Kelvin'))\n",
    "print(\"COnversión de 0 Kelvin a Celsius: \", conversionTemperatura(0, 'Kelvin', 'Celsius'))\n"
   ]
  },
  {
   "attachments": {},
   "cell_type": "markdown",
   "metadata": {},
   "source": [
    "6) Armar una función que devuelva el factorial de un número. Tener en cuenta que el usuario puede equivocarse y enviar de parámetro un número no entero o negativo"
   ]
  },
  {
   "cell_type": "code",
   "execution_count": null,
   "metadata": {},
   "outputs": [],
   "source": [
    "def factorial(numero):\n",
    "    numero = abs(int(numero))  \n",
    "    if (numero > 1):\n",
    "        numero = numero * factorial(numero - 1)\n",
    "    return numero\n",
    "\n",
    "print(\"El factorial de 5 es: \", factorial(5))"
   ]
  }
 ],
 "metadata": {
  "kernelspec": {
   "display_name": "Python 3",
   "language": "python",
   "name": "python3"
  },
  "language_info": {
   "codemirror_mode": {
    "name": "ipython",
    "version": 3
   },
   "file_extension": ".py",
   "mimetype": "text/x-python",
   "name": "python",
   "nbconvert_exporter": "python",
   "pygments_lexer": "ipython3",
   "version": "3.13.5"
  }
 },
 "nbformat": 4,
 "nbformat_minor": 4
}
