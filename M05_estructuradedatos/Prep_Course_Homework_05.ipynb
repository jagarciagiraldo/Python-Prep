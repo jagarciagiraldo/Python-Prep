{
 "cells": [
  {
   "attachments": {},
   "cell_type": "markdown",
   "metadata": {},
   "source": [
    "## Estructuras de Datos"
   ]
  },
  {
   "attachments": {},
   "cell_type": "markdown",
   "metadata": {},
   "source": [
    "1) Crear una lista que contenga nombres de ciudades del mundo que contenga más de 5 elementos e imprimir por pantalla"
   ]
  },
  {
   "cell_type": "code",
   "execution_count": 1,
   "metadata": {},
   "outputs": [
    {
     "name": "stdout",
     "output_type": "stream",
     "text": [
      "Algunas de las ciudades del mundo son: ['Medellin', 'Caracas', 'La Paz', 'Sao Paulo', 'BUenos Aires']\n"
     ]
    }
   ],
   "source": [
    "nombreCuidadesMundoList = list()\n",
    "\n",
    "nombreCuidadesMundoList.append(\"Medellin\")\n",
    "nombreCuidadesMundoList.append(\"Caracas\")\n",
    "nombreCuidadesMundoList.append(\"La Paz\")\n",
    "nombreCuidadesMundoList.append(\"Sao Paulo\")\n",
    "nombreCuidadesMundoList.append(\"BUenos Aires\")\n",
    "\n",
    "print(\"Algunas de las ciudades del mundo son: \" + str(nombreCuidadesMundoList))   "
   ]
  },
  {
   "attachments": {},
   "cell_type": "markdown",
   "metadata": {},
   "source": [
    "2) Imprimir por pantalla el segundo elemento de la lista"
   ]
  },
  {
   "cell_type": "code",
   "execution_count": 2,
   "metadata": {},
   "outputs": [
    {
     "name": "stdout",
     "output_type": "stream",
     "text": [
      "Segundo elemento de la  lista: Caracas\n"
     ]
    }
   ],
   "source": [
    "nombreCuidadesMundoList = list()\n",
    "\n",
    "nombreCuidadesMundoList.append(\"Medellin\")\n",
    "nombreCuidadesMundoList.append(\"Caracas\")\n",
    "nombreCuidadesMundoList.append(\"La Paz\")\n",
    "nombreCuidadesMundoList.append(\"Sao Paulo\")\n",
    "nombreCuidadesMundoList.append(\"BUenos Aires\")\n",
    "\n",
    "print(\"Segundo elemento de la  lista: \" + nombreCuidadesMundoList[1])"
   ]
  },
  {
   "attachments": {},
   "cell_type": "markdown",
   "metadata": {},
   "source": [
    "3) Imprimir por pantalla del segundo al cuarto elemento"
   ]
  },
  {
   "cell_type": "code",
   "execution_count": 5,
   "metadata": {},
   "outputs": [
    {
     "name": "stdout",
     "output_type": "stream",
     "text": [
      "Segundo al cuarto elemento de la lista: ['Caracas', 'La Paz', 'Sao Paulo']\n"
     ]
    }
   ],
   "source": [
    "nombreCuidadesMundoList = list()\n",
    "\n",
    "nombreCuidadesMundoList.append(\"Medellin\")\n",
    "nombreCuidadesMundoList.append(\"Caracas\")\n",
    "nombreCuidadesMundoList.append(\"La Paz\")\n",
    "nombreCuidadesMundoList.append(\"Sao Paulo\")\n",
    "nombreCuidadesMundoList.append(\"BUenos Aires\")\n",
    "\n",
    "print(\"Segundo al cuarto elemento de la lista: \" + str(nombreCuidadesMundoList[1:4]))"
   ]
  },
  {
   "attachments": {},
   "cell_type": "markdown",
   "metadata": {},
   "source": [
    "4) Visualizar el tipo de dato de la lista"
   ]
  },
  {
   "cell_type": "code",
   "execution_count": 6,
   "metadata": {},
   "outputs": [
    {
     "name": "stdout",
     "output_type": "stream",
     "text": [
      "Tipo de dato de la lista: <class 'list'>\n"
     ]
    }
   ],
   "source": [
    "nombreCuidadesMundoList = list()\n",
    "\n",
    "nombreCuidadesMundoList.append(\"Medellin\")\n",
    "nombreCuidadesMundoList.append(\"Caracas\")\n",
    "nombreCuidadesMundoList.append(\"La Paz\")\n",
    "nombreCuidadesMundoList.append(\"Sao Paulo\")\n",
    "nombreCuidadesMundoList.append(\"BUenos Aires\")\n",
    "\n",
    "print(\"Tipo de dato de la lista: \" + str(type(nombreCuidadesMundoList)))"
   ]
  },
  {
   "attachments": {},
   "cell_type": "markdown",
   "metadata": {},
   "source": [
    "5) Visualizar todos los elementos de la lista a partir del tercero de manera genérica, es decir, sin explicitar la posición del último elemento"
   ]
  },
  {
   "cell_type": "code",
   "execution_count": 7,
   "metadata": {},
   "outputs": [
    {
     "name": "stdout",
     "output_type": "stream",
     "text": [
      "Visualizar desde el tercer elemento hasta el final: ['La Paz', 'Sao Paulo', 'BUenos Aires']\n"
     ]
    }
   ],
   "source": [
    "nombreCuidadesMundoList = list()\n",
    "\n",
    "nombreCuidadesMundoList.append(\"Medellin\")\n",
    "nombreCuidadesMundoList.append(\"Caracas\")\n",
    "nombreCuidadesMundoList.append(\"La Paz\")\n",
    "nombreCuidadesMundoList.append(\"Sao Paulo\")\n",
    "nombreCuidadesMundoList.append(\"BUenos Aires\")\n",
    "\n",
    "print(\"Visualizar desde el tercer elemento hasta el final: \" + str(nombreCuidadesMundoList[2:]))"
   ]
  },
  {
   "attachments": {},
   "cell_type": "markdown",
   "metadata": {},
   "source": [
    "6) Visualizar los primeros 4 elementos de la lista"
   ]
  },
  {
   "cell_type": "code",
   "execution_count": 8,
   "metadata": {},
   "outputs": [
    {
     "name": "stdout",
     "output_type": "stream",
     "text": [
      "Visualizar los primeros cuatr elementos: ['Medellin', 'Caracas', 'La Paz', 'Sao Paulo']\n"
     ]
    }
   ],
   "source": [
    "nombreCuidadesMundoList = list()\n",
    "\n",
    "nombreCuidadesMundoList.append(\"Medellin\")\n",
    "nombreCuidadesMundoList.append(\"Caracas\")\n",
    "nombreCuidadesMundoList.append(\"La Paz\")\n",
    "nombreCuidadesMundoList.append(\"Sao Paulo\")\n",
    "nombreCuidadesMundoList.append(\"BUenos Aires\")\n",
    "\n",
    "print(\"Visualizar los primeros cuatr elementos: \" + str(nombreCuidadesMundoList[:4]))\n"
   ]
  },
  {
   "attachments": {},
   "cell_type": "markdown",
   "metadata": {},
   "source": [
    "7) Agregar una ciudad más a la lista que ya exista y otra que no ¿Arroja algún tipo de error?"
   ]
  },
  {
   "cell_type": "code",
   "execution_count": 9,
   "metadata": {},
   "outputs": [
    {
     "name": "stdout",
     "output_type": "stream",
     "text": [
      "Lista actual: ['Medellin', 'Caracas', 'La Paz', 'Sao Paulo', 'BUenos Aires']\n",
      "Lista modificada: ['Medellin', 'Caracas', 'La Paz', 'Sao Paulo', 'BUenos Aires', 'Lima', 'Medellin']\n"
     ]
    }
   ],
   "source": [
    "nombreCuidadesMundoList = list()\n",
    "\n",
    "nombreCuidadesMundoList.append(\"Medellin\")\n",
    "nombreCuidadesMundoList.append(\"Caracas\")\n",
    "nombreCuidadesMundoList.append(\"La Paz\")\n",
    "nombreCuidadesMundoList.append(\"Sao Paulo\")\n",
    "nombreCuidadesMundoList.append(\"BUenos Aires\")\n",
    "\n",
    "print(\"Lista actual: \" + str(nombreCuidadesMundoList))\n",
    "\n",
    "nombreCuidadesMundoList.append(\"Lima\")\n",
    "nombreCuidadesMundoList.append(\"Medellin\")\n",
    "\n",
    "print(\"Lista modificada: \" + str(nombreCuidadesMundoList))\n"
   ]
  },
  {
   "attachments": {},
   "cell_type": "markdown",
   "metadata": {},
   "source": [
    "8) Agregar otra ciudad, pero en la cuarta posición"
   ]
  },
  {
   "cell_type": "code",
   "execution_count": 14,
   "metadata": {},
   "outputs": [
    {
     "name": "stdout",
     "output_type": "stream",
     "text": [
      "Lista de ciudades de LATAM: ['Medellin', 'Caracas', 'La Paz', 'Sao Paulo', 'BUenos Aires']\n",
      "Lista de ciudades de LATAM después de la modificación: ['Medellin', 'Caracas', 'La Paz', 'Lima', 'Sao Paulo', 'BUenos Aires']\n"
     ]
    }
   ],
   "source": [
    "nombreCuidadesLATAMList = list()\n",
    "\n",
    "nombreCuidadesLATAMList.append(\"Medellin\")\n",
    "nombreCuidadesLATAMList.append(\"Caracas\")\n",
    "nombreCuidadesLATAMList.append(\"La Paz\")\n",
    "nombreCuidadesLATAMList.append(\"Sao Paulo\")\n",
    "nombreCuidadesLATAMList.append(\"BUenos Aires\")\n",
    "\n",
    "print(\"Lista de ciudades de LATAM: \" + str(nombreCuidadesLATAMList))\n",
    "\n",
    "nombreCuidadesLATAMList.insert(3,\"Lima\")\n",
    "print(\"Lista de ciudades de LATAM después de la modificación: \" + str(nombreCuidadesLATAMList))\n"
   ]
  },
  {
   "attachments": {},
   "cell_type": "markdown",
   "metadata": {},
   "source": [
    "9) Concatenar otra lista a la ya creada"
   ]
  },
  {
   "cell_type": "code",
   "execution_count": 16,
   "metadata": {},
   "outputs": [
    {
     "name": "stdout",
     "output_type": "stream",
     "text": [
      "Lista actual LATAM: ['Medellin', 'Caracas', 'La Paz', 'Sao Paulo', 'BUenos Aires', 'Lima', 'Medellin']\n",
      "Lista actual US: ['Miami', 'New York', 'Los Angeles', 'Chicago', 'Houston']\n",
      "Lista unida: ['Medellin', 'Caracas', 'La Paz', 'Sao Paulo', 'BUenos Aires', 'Miami', 'New York', 'Los Angeles', 'Chicago', 'Houston']\n"
     ]
    }
   ],
   "source": [
    "nombreCuidadesLATAMList = list()\n",
    "\n",
    "nombreCuidadesLATAMList.append(\"Medellin\")\n",
    "nombreCuidadesLATAMList.append(\"Caracas\")\n",
    "nombreCuidadesLATAMList.append(\"La Paz\")\n",
    "nombreCuidadesLATAMList.append(\"Sao Paulo\")\n",
    "nombreCuidadesLATAMList.append(\"BUenos Aires\")\n",
    "\n",
    "print(\"Lista actual LATAM: \" + str(nombreCuidadesMundoList))\n",
    "\n",
    "nombreCuidadesUSList = list()\n",
    "nombreCuidadesUSList.append(\"Miami\")\n",
    "nombreCuidadesUSList.append(\"New York\") \n",
    "nombreCuidadesUSList.append(\"Los Angeles\")\n",
    "nombreCuidadesUSList.append(\"Chicago\")\n",
    "nombreCuidadesUSList.append(\"Houston\")\n",
    "\n",
    "print(\"Lista actual US: \" + str(nombreCuidadesUSList))\n",
    "\n",
    "nombreCuidadesMundoList = nombreCuidadesLATAMList + nombreCuidadesUSList\n",
    "print(\"Lista unida: \" + str(nombreCuidadesMundoList))"
   ]
  },
  {
   "attachments": {},
   "cell_type": "markdown",
   "metadata": {},
   "source": [
    "10) Encontrar el índice de la ciudad que en el punto 7 agregamos duplicada. ¿Se nota alguna particularidad?"
   ]
  },
  {
   "cell_type": "code",
   "execution_count": 17,
   "metadata": {},
   "outputs": [
    {
     "name": "stdout",
     "output_type": "stream",
     "text": [
      "Lista actual: ['Medellin', 'Caracas', 'La Paz', 'Sao Paulo', 'BUenos Aires']\n",
      "Lista modificada: ['Medellin', 'Caracas', 'La Paz', 'Sao Paulo', 'BUenos Aires', 'Lima', 'Medellin']\n",
      "Lista de ciudades duplicadas: ['Medellin']\n",
      "Indices de ciudades duplicadas: [0]\n"
     ]
    }
   ],
   "source": [
    "nombreCuidadesMundoList = list()\n",
    "\n",
    "nombreCuidadesMundoList.append(\"Medellin\")\n",
    "nombreCuidadesMundoList.append(\"Caracas\")\n",
    "nombreCuidadesMundoList.append(\"La Paz\")\n",
    "nombreCuidadesMundoList.append(\"Sao Paulo\")\n",
    "nombreCuidadesMundoList.append(\"BUenos Aires\")\n",
    "\n",
    "print(\"Lista actual: \" + str(nombreCuidadesMundoList))\n",
    "\n",
    "nombreCuidadesMundoList.append(\"Lima\")\n",
    "nombreCuidadesMundoList.append(\"Medellin\")\n",
    "\n",
    "print(\"Lista modificada: \" + str(nombreCuidadesMundoList))\n",
    "\n",
    "nombreCuidadesMundoListDuplicados = list()\n",
    "indicesCuidadesMundoListDuplicados = list()\n",
    "\n",
    "\n",
    "for cuidad in nombreCuidadesMundoList:\n",
    "    if (nombreCuidadesMundoList.count(cuidad) > 1 and cuidad not in nombreCuidadesMundoListDuplicados):\n",
    "        nombreCuidadesMundoListDuplicados.append(cuidad)\n",
    "        indicesCuidadesMundoListDuplicados.append(nombreCuidadesMundoList.index(cuidad))\n",
    "\n",
    "print(\"Lista de ciudades duplicadas: \" + str(nombreCuidadesMundoListDuplicados))\n",
    "print(\"Indices de ciudades duplicadas: \" + str(indicesCuidadesMundoListDuplicados))\n",
    "\n"
   ]
  },
  {
   "attachments": {},
   "cell_type": "markdown",
   "metadata": {},
   "source": [
    "11) ¿Qué pasa si se busca un elemento que no existe?"
   ]
  },
  {
   "cell_type": "code",
   "execution_count": 18,
   "metadata": {},
   "outputs": [
    {
     "name": "stdout",
     "output_type": "stream",
     "text": [
      "Lista actual: ['Medellin', 'Caracas', 'La Paz', 'Sao Paulo', 'BUenos Aires']\n",
      "Se busca cuidad: Lima\n",
      "La ciudad Lima no se encuentra en la lista\n"
     ]
    }
   ],
   "source": [
    "nombreCuidadesMundoList = list()\n",
    "\n",
    "nombreCuidadesMundoList.append(\"Medellin\")\n",
    "nombreCuidadesMundoList.append(\"Caracas\")\n",
    "nombreCuidadesMundoList.append(\"La Paz\")\n",
    "nombreCuidadesMundoList.append(\"Sao Paulo\")\n",
    "nombreCuidadesMundoList.append(\"BUenos Aires\")\n",
    "\n",
    "print(\"Lista actual: \" + str(nombreCuidadesMundoList))\n",
    "\n",
    "cuidadPorBuscar = str(\"Lima\")\n",
    "\n",
    "print(\"Se busca cuidad: \" + str(cuidadPorBuscar))\n",
    "if (cuidadPorBuscar in nombreCuidadesMundoList):\n",
    "    print(\"La ciudad \" + str(cuidadPorBuscar) + \" se encuentra en la lista\")\n",
    "else:\n",
    "    print(\"La ciudad \" + str(cuidadPorBuscar) + \" no se encuentra en la lista\")     "
   ]
  },
  {
   "attachments": {},
   "cell_type": "markdown",
   "metadata": {},
   "source": [
    "12) Eliminar un elemento de la lista"
   ]
  },
  {
   "cell_type": "code",
   "execution_count": 19,
   "metadata": {},
   "outputs": [
    {
     "name": "stdout",
     "output_type": "stream",
     "text": [
      "Lista actual: ['Medellin', 'Caracas', 'La Paz', 'Sao Paulo', 'BUenos Aires']\n",
      "Lista después de eliminar: ['Medellin', 'Caracas', 'La Paz', 'Sao Paulo']\n"
     ]
    }
   ],
   "source": [
    "nombreCuidadesMundoList = list()\n",
    "\n",
    "nombreCuidadesMundoList.append(\"Medellin\")\n",
    "nombreCuidadesMundoList.append(\"Caracas\")\n",
    "nombreCuidadesMundoList.append(\"La Paz\")\n",
    "nombreCuidadesMundoList.append(\"Sao Paulo\")\n",
    "nombreCuidadesMundoList.append(\"BUenos Aires\")\n",
    "\n",
    "print(\"Lista actual: \" + str(nombreCuidadesMundoList))\n",
    "nombreCuidadesMundoList.remove(\"BUenos Aires\")\n",
    "print(\"Lista después de eliminar: \" + str(nombreCuidadesMundoList))"
   ]
  },
  {
   "attachments": {},
   "cell_type": "markdown",
   "metadata": {},
   "source": [
    "13) ¿Qué pasa si el elemento a eliminar no existe?"
   ]
  },
  {
   "cell_type": "code",
   "execution_count": 21,
   "metadata": {},
   "outputs": [
    {
     "name": "stdout",
     "output_type": "stream",
     "text": [
      "Lista actual: ['Medellin', 'Caracas', 'La Paz', 'Sao Paulo', 'BUenos Aires']\n",
      "La ciudad Lima no se encuentra en la lista\n",
      "Lista después de eliminar: ['Medellin', 'Caracas', 'La Paz', 'Sao Paulo', 'BUenos Aires']\n"
     ]
    }
   ],
   "source": [
    "nombreCuidadesMundoList = list()\n",
    "\n",
    "nombreCuidadesMundoList.append(\"Medellin\")\n",
    "nombreCuidadesMundoList.append(\"Caracas\")\n",
    "nombreCuidadesMundoList.append(\"La Paz\")\n",
    "nombreCuidadesMundoList.append(\"Sao Paulo\")\n",
    "nombreCuidadesMundoList.append(\"BUenos Aires\")\n",
    "\n",
    "print(\"Lista actual: \" + str(nombreCuidadesMundoList))\n",
    "try:\n",
    "    nombreCuidadesMundoList.remove(\"Lima\")\n",
    "except ValueError:\n",
    "    print(\"La ciudad Lima no se encuentra en la lista\")\n",
    "finally:\n",
    "    print(\"Lista después de eliminar: \" + str(nombreCuidadesMundoList))"
   ]
  },
  {
   "attachments": {},
   "cell_type": "markdown",
   "metadata": {},
   "source": [
    "14) Extraer el úlimo elemento de la lista, guardarlo en una variable e imprimirlo"
   ]
  },
  {
   "cell_type": "code",
   "execution_count": 22,
   "metadata": {},
   "outputs": [
    {
     "name": "stdout",
     "output_type": "stream",
     "text": [
      "Lista actual: ['Medellin', 'Caracas', 'La Paz', 'Sao Paulo', 'BUenos Aires']\n",
      "Ultimo elemento de la lista: BUenos Aires\n"
     ]
    }
   ],
   "source": [
    "nombreCuidadesMundoList = list()\n",
    "\n",
    "nombreCuidadesMundoList.append(\"Medellin\")\n",
    "nombreCuidadesMundoList.append(\"Caracas\")\n",
    "nombreCuidadesMundoList.append(\"La Paz\")\n",
    "nombreCuidadesMundoList.append(\"Sao Paulo\")\n",
    "nombreCuidadesMundoList.append(\"BUenos Aires\")\n",
    "\n",
    "print(\"Lista actual: \" + str(nombreCuidadesMundoList))\n",
    "\n",
    "ulitmoElementoNombreCuidadesMundoList = str(nombreCuidadesMundoList[-1])\n",
    "\n",
    "print(\"Ultimo elemento de la lista: \" + ulitmoElementoNombreCuidadesMundoList)\n",
    "\n"
   ]
  },
  {
   "attachments": {},
   "cell_type": "markdown",
   "metadata": {},
   "source": [
    "15) Mostrar la lista multiplicada por 4"
   ]
  },
  {
   "cell_type": "code",
   "execution_count": 23,
   "metadata": {},
   "outputs": [
    {
     "name": "stdout",
     "output_type": "stream",
     "text": [
      "Lista actual: ['Medellin', 'Caracas', 'La Paz', 'Sao Paulo', 'BUenos Aires']\n",
      "Lista multipliacada por 4: ['Medellin', 'Caracas', 'La Paz', 'Sao Paulo', 'BUenos Aires', 'Medellin', 'Caracas', 'La Paz', 'Sao Paulo', 'BUenos Aires', 'Medellin', 'Caracas', 'La Paz', 'Sao Paulo', 'BUenos Aires', 'Medellin', 'Caracas', 'La Paz', 'Sao Paulo', 'BUenos Aires']\n"
     ]
    }
   ],
   "source": [
    "nombreCuidadesMundoList = list()\n",
    "\n",
    "nombreCuidadesMundoList.append(\"Medellin\")\n",
    "nombreCuidadesMundoList.append(\"Caracas\")\n",
    "nombreCuidadesMundoList.append(\"La Paz\")\n",
    "nombreCuidadesMundoList.append(\"Sao Paulo\")\n",
    "nombreCuidadesMundoList.append(\"BUenos Aires\")\n",
    "\n",
    "print(\"Lista actual: \" + str(nombreCuidadesMundoList))\n",
    "\n",
    "print(\"Lista multipliacada por 4: \" + str(nombreCuidadesMundoList * 4))"
   ]
  },
  {
   "attachments": {},
   "cell_type": "markdown",
   "metadata": {},
   "source": [
    "16) Crear una tupla que contenga los números enteros del 1 al 20"
   ]
  },
  {
   "cell_type": "code",
   "execution_count": 24,
   "metadata": {},
   "outputs": [
    {
     "name": "stdout",
     "output_type": "stream",
     "text": [
      "Lista de numeros del 1 al 20: (1, 2, 3, 4, 5, 6, 7, 8, 9, 10, 11, 12, 13, 14, 15, 16, 17, 18, 19, 20)\n"
     ]
    }
   ],
   "source": [
    "numerosUnoAVeinteTuple = tuple()\n",
    "\n",
    "numerosUnoAVeinteTuple = (1,2,3,4,5,6,7,8,9,10,11,12,13,14,15,16,17,18,19,20)\n",
    "\n",
    "print(\"Lista de numeros del 1 al 20: \" + str(numerosUnoAVeinteTuple))"
   ]
  },
  {
   "attachments": {},
   "cell_type": "markdown",
   "metadata": {},
   "source": [
    "17) Imprimir desde el índice 10 al 15 de la tupla"
   ]
  },
  {
   "cell_type": "code",
   "execution_count": 26,
   "metadata": {},
   "outputs": [
    {
     "name": "stdout",
     "output_type": "stream",
     "text": [
      "Desde el indice 10 hasta el 15: (11, 12, 13, 14, 15, 16)\n"
     ]
    }
   ],
   "source": [
    "numerosUnoAVeinteTuple = tuple()\n",
    "\n",
    "numerosUnoAVeinteTuple = (1,2,3,4,5,6,7,8,9,10,11,12,13,14,15,16,17,18,19,20)\n",
    "\n",
    "print(\"Desde el indice 10 hasta el 15: \" + str(numerosUnoAVeinteTuple[10:16]))\n",
    "\n"
   ]
  },
  {
   "attachments": {},
   "cell_type": "markdown",
   "metadata": {},
   "source": [
    "18) Evaluar si los números 20 y 30 están dentro de la tupla"
   ]
  },
  {
   "cell_type": "code",
   "execution_count": 1,
   "metadata": {},
   "outputs": [
    {
     "name": "stdout",
     "output_type": "stream",
     "text": [
      "El numero 20 se encuentra en la lista\n",
      "El numero 30 no se encuentra en la lista\n"
     ]
    }
   ],
   "source": [
    "numerosUnoAVeinteTuple = tuple()\n",
    "\n",
    "numerosUnoAVeinteTuple = (1,2,3,4,5,6,7,8,9,10,11,12,13,14,15,16,17,18,19,20)\n",
    "\n",
    "if (numerosUnoAVeinteTuple.count(20) > 0):\n",
    "    print(\"El numero 20 se encuentra en la lista\")\n",
    "else:\n",
    "    print(\"El numero 20 no se encuentra en la lista\")\n",
    "\n",
    "if(numerosUnoAVeinteTuple.count(30) > 0):\n",
    "    print(\"El numero 30 se encuentra en la lista\")\n",
    "else:\n",
    "    print(\"El numero 30 no se encuentra en la lista\")\n",
    "\n",
    "if(numerosUnoAVeinteTuple.count(20) == 0) and (numerosUnoAVeinteTuple.count(30) == 0):\n",
    "    print(\"El numero 20 y numero 30 no se encuentra en la lista\")\n"
   ]
  },
  {
   "attachments": {},
   "cell_type": "markdown",
   "metadata": {},
   "source": [
    "19) Con la lista creada en el punto 1, validar la existencia del elemento 'París' y si no existe, agregarlo. Utilizar una variable e informar lo sucedido."
   ]
  },
  {
   "cell_type": "code",
   "execution_count": 3,
   "metadata": {},
   "outputs": [
    {
     "name": "stdout",
     "output_type": "stream",
     "text": [
      "Lista actual: ['Medellin', 'Caracas', 'La Paz', 'Sao Paulo', 'BUenos Aires']\n",
      "La ciudad Paris se encuentra en la lista\n",
      "Lista después de agregar: ['Medellin', 'Caracas', 'La Paz', 'Sao Paulo', 'BUenos Aires', 'Paris']\n"
     ]
    }
   ],
   "source": [
    "nombreCuidadesMundoList = list()\n",
    "\n",
    "nombreCuidadesMundoList.append(\"Medellin\")\n",
    "nombreCuidadesMundoList.append(\"Caracas\")\n",
    "nombreCuidadesMundoList.append(\"La Paz\")\n",
    "nombreCuidadesMundoList.append(\"Sao Paulo\")\n",
    "nombreCuidadesMundoList.append(\"BUenos Aires\")\n",
    "\n",
    "print(\"Lista actual: \" + str(nombreCuidadesMundoList))\n",
    "\n",
    "if(nombreCuidadesMundoList.count(\"Paris\") >= 0):\n",
    "    print(\"La ciudad Paris se encuentra en la lista\")\n",
    "    nombreCuidadesMundoList.append(\"Paris\")\n",
    "\n",
    "print(\"Lista después de agregar: \" + str(nombreCuidadesMundoList))\n"
   ]
  },
  {
   "attachments": {},
   "cell_type": "markdown",
   "metadata": {},
   "source": [
    "20) Mostrar la cantidad de veces que se encuentra un elemento específico dentro de la tupla y de la lista"
   ]
  },
  {
   "cell_type": "code",
   "execution_count": 6,
   "metadata": {},
   "outputs": [
    {
     "name": "stdout",
     "output_type": "stream",
     "text": [
      "Lista de nombres de mujeres: ['Ana', 'Maria', 'Laura', 'Luisa', 'Carla']\n",
      "Nombre: Ana\n",
      "Cantidad de veces que se repite: 1\n",
      "Indice: 0\n",
      "Nombre: Maria\n",
      "Cantidad de veces que se repite: 1\n",
      "Indice: 1\n",
      "Nombre: Laura\n",
      "Cantidad de veces que se repite: 1\n",
      "Indice: 2\n",
      "Nombre: Luisa\n",
      "Cantidad de veces que se repite: 1\n",
      "Indice: 3\n",
      "Nombre: Carla\n",
      "Cantidad de veces que se repite: 1\n",
      "Indice: 4\n",
      "Lista de nombres de hombres: ('Juan', 'Pedro', 'Luis', 'Andres', 'Carlos')\n",
      "Nombre: Juan\n",
      "Cantidad de veces que se repite: 1\n",
      "Indice: 0\n",
      "Nombre: Pedro\n",
      "Cantidad de veces que se repite: 1\n",
      "Indice: 1\n",
      "Nombre: Luis\n",
      "Cantidad de veces que se repite: 1\n",
      "Indice: 2\n",
      "Nombre: Andres\n",
      "Cantidad de veces que se repite: 1\n",
      "Indice: 3\n",
      "Nombre: Carlos\n",
      "Cantidad de veces que se repite: 1\n",
      "Indice: 4\n"
     ]
    }
   ],
   "source": [
    "ListaNombresMujeres = list()\n",
    "ListaNombresMujeres.append(\"Ana\")\n",
    "ListaNombresMujeres.append(\"Maria\")\n",
    "ListaNombresMujeres.append(\"Laura\")\n",
    "ListaNombresMujeres.append(\"Luisa\")\n",
    "ListaNombresMujeres.append(\"Carla\")\n",
    "\n",
    "print(\"Lista de nombres de mujeres: \" + str(ListaNombresMujeres))\n",
    "\n",
    "for nombre in ListaNombresMujeres:\n",
    "    print(\"Nombre: \" + nombre)\n",
    "    print(\"Cantidad de veces que se repite: \" + str(ListaNombresMujeres.count(nombre)))\n",
    "    print(\"Indice: \" + str(ListaNombresMujeres.index(nombre)))\n",
    "\n",
    "\n",
    "TuplaNombresHombres = tuple()\n",
    "TuplaNombresHombres = (\"Juan\", \"Pedro\", \"Luis\", \"Andres\", \"Carlos\")\n",
    "print(\"Lista de nombres de hombres: \" + str(TuplaNombresHombres))\n",
    "\n",
    "for nombre in TuplaNombresHombres:\n",
    "    print(\"Nombre: \" + nombre)\n",
    "    print(\"Cantidad de veces que se repite: \" + str(TuplaNombresHombres.count(nombre)))\n",
    "    print(\"Indice: \" + str(TuplaNombresHombres.index(nombre)))  \n",
    "    \n",
    "\n"
   ]
  },
  {
   "attachments": {},
   "cell_type": "markdown",
   "metadata": {},
   "source": [
    "21) Convertir la tupla en una lista"
   ]
  },
  {
   "cell_type": "code",
   "execution_count": 8,
   "metadata": {},
   "outputs": [
    {
     "name": "stdout",
     "output_type": "stream",
     "text": [
      "Lista de nombres de hombres: ('Juan', 'Pedro', 'Luis', 'Andres', 'Carlos')\n",
      "Lista de nombres de hombres convertida a lista: ['Juan', 'Pedro', 'Luis', 'Andres', 'Carlos']\n"
     ]
    }
   ],
   "source": [
    "TuplaNombresHombres= tuple()\n",
    "TuplaNombresHombres = (\"Juan\", \"Pedro\", \"Luis\", \"Andres\", \"Carlos\")\n",
    "print(\"Lista de nombres de hombres: \" + str(TuplaNombresHombres))\n",
    "ListaNombresHombres = list()\n",
    "ListaNombresHombres = list(TuplaNombresHombres)\n",
    "print(\"Lista de nombres de hombres convertida a lista: \" + str(ListaNombresHombres))"
   ]
  },
  {
   "attachments": {},
   "cell_type": "markdown",
   "metadata": {},
   "source": [
    "22) Desempaquetar solo los primeros 3 elementos de la tupla en 3 variables"
   ]
  },
  {
   "cell_type": "code",
   "execution_count": 15,
   "metadata": {},
   "outputs": [
    {
     "name": "stdout",
     "output_type": "stream",
     "text": [
      "Lista de nombres de hombres en tupla: ('Juan', 'Pedro', 'Luis', 'Andres', 'Carlos')\n",
      "Lista de nombres de hombres convertida a lista: ['Juan', 'Pedro', 'Luis', 'Andres', 'Carlos']\n",
      "Lista de nombres de hombres modificado: ['Andres', 'Carlos']\n"
     ]
    }
   ],
   "source": [
    "TuplaNombresHombres= tuple()\n",
    "TuplaNombresHombres = (\"Juan\", \"Pedro\", \"Luis\", \"Andres\", \"Carlos\")\n",
    "print(\"Lista de nombres de hombres en tupla: \" + str(TuplaNombresHombres))\n",
    "ListaNombresHombres = list()\n",
    "ListaNombresHombres = list(TuplaNombresHombres)\n",
    "print(\"Lista de nombres de hombres convertida a lista: \" + str(ListaNombresHombres))\n",
    "ListaNombresHombres = ListaNombresHombres[3:]\n",
    "print(\"Lista de nombres de hombres modificado: \" + str(ListaNombresHombres))\n"
   ]
  },
  {
   "attachments": {},
   "cell_type": "markdown",
   "metadata": {},
   "source": [
    "23) Crear un diccionario utilizando la lista crada en el punto 1, asignandole la clave \"ciudad\". Agregar tambien otras claves, como puede ser \"Pais\" y \"Continente\"."
   ]
  },
  {
   "cell_type": "code",
   "execution_count": 16,
   "metadata": {},
   "outputs": [
    {
     "name": "stdout",
     "output_type": "stream",
     "text": [
      "Lista actual: ['Medellin', 'Caracas', 'La Paz', 'Sao Paulo', 'BUenos Aires']\n",
      "Diccionario de ciudades del mundo: {'Medellin': {'Cuidad': 'Medellin', 'Pais': 'Colombia', 'Continente': 'Sur America'}, 'Caracas': {'Cuidad': 'Caracas', 'Pais': 'Venezuela', 'Continente': 'Sur America'}, 'La Paz': {'Cuidad': 'La Paz', 'Pais': 'Bolivia', 'Continente': 'Sur America'}, 'Sao Paulo': {'Cuidad': 'Sao Paulo', 'Pais': 'Brasil', 'Continente': 'Sur America'}, 'BUenos Aires': {'Cuidad': 'BUenos Aires', 'Pais': 'Argentina', 'Continente': 'Sur America'}}\n"
     ]
    }
   ],
   "source": [
    "nombreCuidadesMundoList = list()\n",
    "\n",
    "nombreCuidadesMundoList.append(\"Medellin\")\n",
    "nombreCuidadesMundoList.append(\"Caracas\")\n",
    "nombreCuidadesMundoList.append(\"La Paz\")\n",
    "nombreCuidadesMundoList.append(\"Sao Paulo\")\n",
    "nombreCuidadesMundoList.append(\"BUenos Aires\")\n",
    "\n",
    "print(\"Lista actual: \" + str(nombreCuidadesMundoList))\n",
    "\n",
    "diccionarioCuidadesMundo = dict()\n",
    "diccionarioCuidadMedellin = {'Cuidad' : 'Medellin' , 'Pais' : 'Colombia' , 'Continente' : 'Sur America'}\n",
    "diccionarioCuidadCaracas = {'Cuidad' : 'Caracas' , 'Pais' : 'Venezuela' , 'Continente' : 'Sur America'}\n",
    "diccionarioCuidadLaPaz = {'Cuidad' : 'La Paz' , 'Pais' : 'Bolivia' , 'Continente' : 'Sur America'}\n",
    "diccionarioCuidadSaoPaulo = {'Cuidad' : 'Sao Paulo' , 'Pais' : 'Brasil' , 'Continente' : 'Sur America'}\n",
    "diccionarioCuidadBuenosAires = {'Cuidad' : 'BUenos Aires' , 'Pais' : 'Argentina' , 'Continente' : 'Sur America'}\n",
    "\n",
    "diccionarioCuidadesMundo = {'Medellin' : diccionarioCuidadMedellin , 'Caracas' : diccionarioCuidadCaracas , 'La Paz' : diccionarioCuidadLaPaz , 'Sao Paulo' : diccionarioCuidadSaoPaulo , 'BUenos Aires' : diccionarioCuidadBuenosAires}\n",
    "print(\"Diccionario de ciudades del mundo: \" + str(diccionarioCuidadesMundo))\n"
   ]
  },
  {
   "attachments": {},
   "cell_type": "markdown",
   "metadata": {},
   "source": [
    "24) Imprimir las claves del diccionario"
   ]
  },
  {
   "cell_type": "code",
   "execution_count": 17,
   "metadata": {},
   "outputs": [
    {
     "name": "stdout",
     "output_type": "stream",
     "text": [
      "Lista actual: ['Medellin', 'Caracas', 'La Paz', 'Sao Paulo', 'BUenos Aires']\n",
      "Diccionario de ciudades del mundo: {'Medellin': {'Cuidad': 'Medellin', 'Pais': 'Colombia', 'Continente': 'Sur America'}, 'Caracas': {'Cuidad': 'Caracas', 'Pais': 'Venezuela', 'Continente': 'Sur America'}, 'La Paz': {'Cuidad': 'La Paz', 'Pais': 'Bolivia', 'Continente': 'Sur America'}, 'Sao Paulo': {'Cuidad': 'Sao Paulo', 'Pais': 'Brasil', 'Continente': 'Sur America'}, 'BUenos Aires': {'Cuidad': 'BUenos Aires', 'Pais': 'Argentina', 'Continente': 'Sur America'}}\n",
      "Claves del diccionario diccionarioCuidadesMundo: dict_keys(['Medellin', 'Caracas', 'La Paz', 'Sao Paulo', 'BUenos Aires'])\n",
      "Valores del diccionario diccionarioCuidadesMundo: dict_values([{'Cuidad': 'Medellin', 'Pais': 'Colombia', 'Continente': 'Sur America'}, {'Cuidad': 'Caracas', 'Pais': 'Venezuela', 'Continente': 'Sur America'}, {'Cuidad': 'La Paz', 'Pais': 'Bolivia', 'Continente': 'Sur America'}, {'Cuidad': 'Sao Paulo', 'Pais': 'Brasil', 'Continente': 'Sur America'}, {'Cuidad': 'BUenos Aires', 'Pais': 'Argentina', 'Continente': 'Sur America'}])\n"
     ]
    }
   ],
   "source": [
    "nombreCuidadesMundoList = list()\n",
    "\n",
    "nombreCuidadesMundoList.append(\"Medellin\")\n",
    "nombreCuidadesMundoList.append(\"Caracas\")\n",
    "nombreCuidadesMundoList.append(\"La Paz\")\n",
    "nombreCuidadesMundoList.append(\"Sao Paulo\")\n",
    "nombreCuidadesMundoList.append(\"BUenos Aires\")\n",
    "\n",
    "print(\"Lista actual: \" + str(nombreCuidadesMundoList))\n",
    "\n",
    "diccionarioCuidadesMundo = dict()\n",
    "diccionarioCuidadMedellin = {'Cuidad' : 'Medellin' , 'Pais' : 'Colombia' , 'Continente' : 'Sur America'}\n",
    "diccionarioCuidadCaracas = {'Cuidad' : 'Caracas' , 'Pais' : 'Venezuela' , 'Continente' : 'Sur America'}\n",
    "diccionarioCuidadLaPaz = {'Cuidad' : 'La Paz' , 'Pais' : 'Bolivia' , 'Continente' : 'Sur America'}\n",
    "diccionarioCuidadSaoPaulo = {'Cuidad' : 'Sao Paulo' , 'Pais' : 'Brasil' , 'Continente' : 'Sur America'}\n",
    "diccionarioCuidadBuenosAires = {'Cuidad' : 'BUenos Aires' , 'Pais' : 'Argentina' , 'Continente' : 'Sur America'}\n",
    "\n",
    "diccionarioCuidadesMundo = {'Medellin' : diccionarioCuidadMedellin , 'Caracas' : diccionarioCuidadCaracas , 'La Paz' : diccionarioCuidadLaPaz , 'Sao Paulo' : diccionarioCuidadSaoPaulo , 'BUenos Aires' : diccionarioCuidadBuenosAires}\n",
    "print(\"Diccionario de ciudades del mundo: \" + str(diccionarioCuidadesMundo))\n",
    "\n",
    "print(\"Claves del diccionario diccionarioCuidadesMundo: \" + str(diccionarioCuidadesMundo.keys()))\n",
    "print(\"Valores del diccionario diccionarioCuidadesMundo: \" + str(diccionarioCuidadesMundo.values()))"
   ]
  },
  {
   "attachments": {},
   "cell_type": "markdown",
   "metadata": {},
   "source": [
    "25) Imprimir las ciudades a través de su clave"
   ]
  },
  {
   "cell_type": "code",
   "execution_count": null,
   "metadata": {},
   "outputs": [],
   "source": [
    "nombreCuidadesMundoList = list()\n",
    "\n",
    "nombreCuidadesMundoList.append(\"Medellin\")\n",
    "nombreCuidadesMundoList.append(\"Caracas\")\n",
    "nombreCuidadesMundoList.append(\"La Paz\")\n",
    "nombreCuidadesMundoList.append(\"Sao Paulo\")\n",
    "nombreCuidadesMundoList.append(\"BUenos Aires\")\n",
    "\n",
    "print(\"Lista actual: \" + str(nombreCuidadesMundoList))\n",
    "\n",
    "diccionarioCuidadesMundo = dict()\n",
    "diccionarioCuidadMedellin = {'Cuidad' : 'Medellin' , 'Pais' : 'Colombia' , 'Continente' : 'Sur America'}\n",
    "diccionarioCuidadCaracas = {'Cuidad' : 'Caracas' , 'Pais' : 'Venezuela' , 'Continente' : 'Sur America'}\n",
    "diccionarioCuidadLaPaz = {'Cuidad' : 'La Paz' , 'Pais' : 'Bolivia' , 'Continente' : 'Sur America'}\n",
    "diccionarioCuidadSaoPaulo = {'Cuidad' : 'Sao Paulo' , 'Pais' : 'Brasil' , 'Continente' : 'Sur America'}\n",
    "diccionarioCuidadBuenosAires = {'Cuidad' : 'BUenos Aires' , 'Pais' : 'Argentina' , 'Continente' : 'Sur America'}\n",
    "\n",
    "diccionarioCuidadesMundo = {'Medellin' : diccionarioCuidadMedellin , 'Caracas' : diccionarioCuidadCaracas , 'La Paz' : diccionarioCuidadLaPaz , 'Sao Paulo' : diccionarioCuidadSaoPaulo , 'BUenos Aires' : diccionarioCuidadBuenosAires}\n",
    "print(\"Diccionario de ciudades del mundo: \" + str(diccionarioCuidadesMundo))\n",
    "\n",
    "print(\"Claves del diccionario diccionarioCuidadesMundo: \" + str(diccionarioCuidadesMundo.keys()))\n",
    "print(\"Valores del diccionario diccionarioCuidadesMundo: \" + str(diccionarioCuidadesMundo.values()))"
   ]
  }
 ],
 "metadata": {
  "kernelspec": {
   "display_name": "Python 3",
   "language": "python",
   "name": "python3"
  },
  "language_info": {
   "codemirror_mode": {
    "name": "ipython",
    "version": 3
   },
   "file_extension": ".py",
   "mimetype": "text/x-python",
   "name": "python",
   "nbconvert_exporter": "python",
   "pygments_lexer": "ipython3",
   "version": "3.13.3"
  }
 },
 "nbformat": 4,
 "nbformat_minor": 4
}
